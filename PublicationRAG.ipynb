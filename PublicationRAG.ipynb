{
 "cells": [
  {
   "cell_type": "markdown",
   "id": "cf32c3de",
   "metadata": {},
   "source": [
    "Following langchain quickstart tutorial: https://python.langchain.com/v0.1/docs/use_cases/question_answering/quickstart/ \n",
    "\n",
    "Other tutorials: https://medium.com/@thakermadhav/build-your-own-rag-with-mistral-7b-and-langchain-97d0c92fa146\n",
    "\n",
    "Goal: make a RAG to answer queries about research being done at UCSD, database info is pulled from Dimensions"
   ]
  },
  {
   "cell_type": "markdown",
   "id": "9d06201b",
   "metadata": {},
   "source": [
    "Using HuggingFace, Mistral-7B model. https://huggingface.co/docs/transformers/installation installation instructions\n",
    "\n",
    "Pip installations:\n",
    "pip install --upgrade huggingface_hub <br/>\n",
    "install pytorch\n",
    "pip install transformers\n",
    "\n",
    "for langchain stuff:\n",
    "pip install --upgrade --quiet  langchain langchain-community langchainhub langchain-openai langchain-chroma bs4"
   ]
  },
  {
   "cell_type": "markdown",
   "id": "a6c4d077",
   "metadata": {},
   "source": [
    "Langchain is for prototyping, LangSmith is for production to increase reliability of models and have a UI so you can visualize your LLM"
   ]
  },
  {
   "cell_type": "code",
   "execution_count": 50,
   "id": "bfe0c617",
   "metadata": {},
   "outputs": [],
   "source": [
    "import os\n",
    "from dotenv import load_dotenv\n",
    "import getpass\n",
    "\n",
    "load_dotenv()\n",
    "\n",
    "hf_access_token = os.getenv('HF_TOKEN') # get access token from .env file\n",
    "#openai_api_key = os.getenv('OPENAI_API_KEY')\n",
    "lc_api_key = os.getenv('LANGCHAIN_API_KEY')"
   ]
  },
  {
   "cell_type": "code",
   "execution_count": 52,
   "id": "09981dd5",
   "metadata": {},
   "outputs": [],
   "source": [
    "# start logging traces to use LangSmith\n",
    "os.environ[\"LANGCHAIN_TRACING_V2\"] = \"true\"\n",
    "os.environ['HUGGINGFACEHUB_API_TOKEN'] = hf_access_token"
   ]
  },
  {
   "cell_type": "code",
   "execution_count": 7,
   "id": "5ec76120",
   "metadata": {},
   "outputs": [],
   "source": [
    "from langchain import hub\n",
    "from langchain_chroma import Chroma\n",
    "from langchain_core.output_parsers import StrOutputParser\n",
    "from langchain_core.runnables import RunnablePassthrough\n",
    "from langchain_openai import OpenAIEmbeddings"
   ]
  },
  {
   "cell_type": "code",
   "execution_count": 8,
   "id": "3da94932",
   "metadata": {},
   "outputs": [],
   "source": [
    "# use DocumentLoaders: objects to load in data fram a source and return a list of documents for our vector database\n",
    "# one Document has page_content and metadata\n",
    "# TODO: make a csv file with publications that we want to load in \n",
    "# https://python.langchain.com/v0.1/docs/modules/data_connection/document_loaders/csv/ "
   ]
  },
  {
   "cell_type": "code",
   "execution_count": 11,
   "id": "3d030193-e857-4d57-8c9d-ea08437651ea",
   "metadata": {},
   "outputs": [],
   "source": [
    "# large fields in the CSV file -> increase field size limit\n",
    "# https://stackoverflow.com/questions/15063936/csv-error-field-larger-than-field-limit-131072\n",
    "\n",
    "import sys\n",
    "import csv\n",
    "maxInt = sys.maxsize\n",
    "\n",
    "while True:\n",
    "    # decrease the maxInt value by factor 10 \n",
    "    # as long as the OverflowError occurs.\n",
    "\n",
    "    try:\n",
    "        csv.field_size_limit(maxInt)\n",
    "        break\n",
    "    except OverflowError:\n",
    "        maxInt = int(maxInt/10)"
   ]
  },
  {
   "cell_type": "code",
   "execution_count": 13,
   "id": "5848943c-302d-4af1-a13c-e060fa7f1533",
   "metadata": {},
   "outputs": [],
   "source": [
    "# STEP 1: indexing, load data\n",
    "from langchain_community.document_loaders.csv_loader import CSVLoader\n",
    "\n",
    "loader = CSVLoader(file_path=\"publication_docs.csv\")\n",
    "data = loader.load()"
   ]
  },
  {
   "cell_type": "code",
   "execution_count": 15,
   "id": "d95d403b-b6bb-41e3-ac6b-ce36ae0773f1",
   "metadata": {},
   "outputs": [
    {
     "data": {
      "text/plain": [
       "5014"
      ]
     },
     "execution_count": 15,
     "metadata": {},
     "output_type": "execute_result"
    }
   ],
   "source": [
    "len(data)"
   ]
  },
  {
   "cell_type": "code",
   "execution_count": 17,
   "id": "797d5a8e-93ed-482c-90b0-8fec4fef0eab",
   "metadata": {},
   "outputs": [],
   "source": [
    "# STEP 2: indexing, split data\n",
    "from langchain_text_splitters import RecursiveCharacterTextSplitter\n",
    "\n",
    "text_splitter = RecursiveCharacterTextSplitter(\n",
    "    chunk_size=1000, chunk_overlap=200, add_start_index=True\n",
    ")\n",
    "all_splits = text_splitter.split_documents(data)"
   ]
  },
  {
   "cell_type": "code",
   "execution_count": 19,
   "id": "c752e079-6f8e-4f81-9860-4543d66fa2ce",
   "metadata": {},
   "outputs": [
    {
     "data": {
      "text/plain": [
       "Document(page_content='title: Missing Wedge Completion via Unsupervised Learning with Coordinate Networks', metadata={'source': 'publication_docs.csv', 'row': 0, 'start_index': 0})"
      ]
     },
     "execution_count": 19,
     "metadata": {},
     "output_type": "execute_result"
    }
   ],
   "source": [
    "all_splits[0]"
   ]
  },
  {
   "cell_type": "code",
   "execution_count": 21,
   "id": "2ff83853-f529-4914-85f7-d3f50f882007",
   "metadata": {},
   "outputs": [
    {
     "data": {
      "text/plain": [
       "118738"
      ]
     },
     "execution_count": 21,
     "metadata": {},
     "output_type": "execute_result"
    }
   ],
   "source": [
    "len(all_splits)"
   ]
  },
  {
   "cell_type": "markdown",
   "id": "00652abf-81e9-45a0-b337-9ac747fa35b2",
   "metadata": {},
   "source": [
    "I tried to load all the documents, but it gives me a JSON decoder issue. I tried batching the data as below but still got the error. "
   ]
  },
  {
   "cell_type": "code",
   "execution_count": 24,
   "id": "f9cfa62d-a410-42c1-bf8e-e7ed57357b21",
   "metadata": {},
   "outputs": [
    {
     "name": "stdout",
     "output_type": "stream",
     "text": [
      "Hugging Face Embeddings model initialized successfully.\n"
     ]
    }
   ],
   "source": [
    "# STEP 3: indexing, store\n",
    "from langchain_community.vectorstores import FAISS\n",
    "from langchain_community.embeddings import HuggingFaceInferenceAPIEmbeddings\n",
    "\n",
    "embeddings = HuggingFaceInferenceAPIEmbeddings(api_key=hf_access_token, model_name=\"sentence-transformers/all-MiniLM-L6-v2\")\n",
    "print(\"Hugging Face Embeddings model initialized successfully.\")\n",
    "db = FAISS.from_documents(all_splits[0:1000], embeddings) "
   ]
  },
  {
   "cell_type": "code",
   "execution_count": 26,
   "id": "f0a2fa05-a0f2-4338-b9bf-ac1c8d86dde2",
   "metadata": {},
   "outputs": [
    {
     "data": {
      "text/plain": [
       "11874"
      ]
     },
     "execution_count": 26,
     "metadata": {},
     "output_type": "execute_result"
    }
   ],
   "source": [
    "batch_size = 10\n",
    "batched_data = [] \n",
    "\n",
    "for i in range(0, len(all_splits), batch_size):\n",
    "    batched_data.append(all_splits[i:i + batch_size])\n",
    "\n",
    "len(batched_data)"
   ]
  },
  {
   "cell_type": "code",
   "execution_count": 28,
   "id": "52be3a24-708b-4156-b8d7-4326495db82b",
   "metadata": {},
   "outputs": [],
   "source": [
    "# STEP 4: RETRIEVAL AND GENERATION\n",
    "retriever = db.as_retriever(search_type=\"similarity\", search_kwargs={\"k\": 6})"
   ]
  },
  {
   "cell_type": "code",
   "execution_count": 34,
   "id": "362fe7f0-d6b6-45f4-a475-99d221238529",
   "metadata": {},
   "outputs": [],
   "source": [
    "# STEP 5: GENERATION\n",
    "from langchain_community.llms import HuggingFaceHub\n",
    "\n",
    "llm = HuggingFaceHub(\n",
    "            repo_id=\"HuggingFaceH4/zephyr-7b-beta\", \n",
    "            task=\"text-generation\",\n",
    "            model_kwargs={\"temperature\": 0.1, \"max_length\": 1000}\n",
    "        )"
   ]
  },
  {
   "cell_type": "code",
   "execution_count": 38,
   "id": "4c329e9e-2697-4749-a112-5be4e4d79dce",
   "metadata": {},
   "outputs": [],
   "source": [
    "from langchain_core.output_parsers import StrOutputParser\n",
    "from langchain_core.runnables import RunnablePassthrough\n",
    "\n",
    "from langchain import hub\n",
    "\n",
    "prompt = hub.pull(\"rlm/rag-prompt\")\n",
    "\n",
    "def format_docs(docs):\n",
    "    return \"\\n\\n\".join(doc.page_content for doc in docs)\n",
    "\n",
    "rag_chain = (\n",
    "    {\"context\": retriever | format_docs, \"question\": RunnablePassthrough()}\n",
    "    | prompt\n",
    "    | llm\n",
    "    | StrOutputParser()\n",
    ")"
   ]
  },
  {
   "cell_type": "code",
   "execution_count": 40,
   "id": "8bf98964-0457-41aa-a08a-c1790d0e04e3",
   "metadata": {},
   "outputs": [
    {
     "name": "stdout",
     "output_type": "stream",
     "text": [
      "input_variables=['context', 'question'] metadata={'lc_hub_owner': 'rlm', 'lc_hub_repo': 'rag-prompt', 'lc_hub_commit_hash': '50442af133e61576e74536c6556cefe1fac147cad032f4377b60c436e6cdcb6e'} messages=[HumanMessagePromptTemplate(prompt=PromptTemplate(input_variables=['context', 'question'], template=\"You are an assistant for question-answering tasks. Use the following pieces of retrieved context to answer the question. If you don't know the answer, just say that you don't know. Use three sentences maximum and keep the answer concise.\\nQuestion: {question} \\nContext: {context} \\nAnswer:\"))]\n"
     ]
    }
   ],
   "source": [
    "print(prompt)"
   ]
  },
  {
   "cell_type": "code",
   "execution_count": 54,
   "id": "0638321a",
   "metadata": {},
   "outputs": [
    {
     "name": "stdout",
     "output_type": "stream",
     "text": [
      "Human: You are an assistant for question-answering tasks. Use the following pieces of retrieved context to answer the question. If you don't know the answer, just say that you don't know. Use three sentences maximum and keep the answer concise.\n",
      "Question: What papers cover malaria? \n",
      "Context: category_for: [{'id': '80034', 'name': '3101 Biochemistry and Cell Biology'}, {'id': '80002', 'name': '31 Biological Sciences'}, {'id': '80068', 'name': '3404 Medicinal and Biomolecular Chemistry'}, {'id': '80005', 'name': '34 Chemical Sciences'}, {'id': '80040', 'name': '3107 Microbiology'}]\n",
      "publisher: MDPI\n",
      "research_org_names: ['Stanford Synchrotron Radiation Lightsource', 'Baylor College of Medicine', 'Salk Institute for Biological Studies', 'University of California, San Diego', 'Stanford University', 'University of Michigan–Ann Arbor']\n",
      "times_cited: 0\n",
      "year: 2024\n",
      "journal.id: jour.1028874\n",
      "journal.title: International Journal of Molecular Sciences\n",
      "funders:\n",
      "\n",
      "category_for: [{'id': '80002', 'name': '31 Biological Sciences'}, {'id': '80038', 'name': '3105 Genetics'}]\n",
      "publisher: Public Library of Science (PLoS)\n",
      "research_org_names: ['Stanford University', 'Northeastern University', 'University of California, San Diego']\n",
      "times_cited: 0\n",
      "year: 2024\n",
      "journal.id: jour.1037553\n",
      "journal.title: PLOS ONE\n",
      "funders: [{'acronym': 'NHLBI', 'city_name': 'Bethesda', 'country_code': 'US', 'country_name': 'United States', 'id': 'grid.279885.9', 'latitude': 39.00428, 'linkout': ['http://www.nhlbi.nih.gov/'], 'longitude': -77.100945, 'name': 'National Heart Lung and Blood Institute', 'state_name': 'Maryland', 'types': ['Government']}]\n",
      "\n",
      "States.', 'state': 'Illinois', 'state_code': 'US-IL'}], 'corresponding': '', 'current_organization_id': '', 'first_name': 'Shuolong', 'last_name': 'Yang', 'orcid': [], 'raw_affiliation': ['Pritzker School of Molecular Engineering, University of Chicago, Chicago, Illinois 60637, United States.'], 'researcher_id': None}]\n",
      "\n",
      "'orcid': [], 'raw_affiliation': [\"Rush Alzheimer's Disease Center and the Department of Internal Medicine, Rush University Medical Center, Chicago, IL, USA.\", 'Institute for Minority Health Research, University of Illinois at Chicago, Chicago, IL, USA.'], 'researcher_id': None}, {'affiliations': [{'city': 'Detroit', 'city_id': 4990729, 'country': 'United States', 'country_code': 'US', 'id': 'grid.254444.7', 'name': 'Wayne State University', 'raw_affiliation': 'Institute of Gerontology and Department of Healthcare Sciences, Wayne State University, Detroit, MI, USA.', 'state': 'Michigan', 'state_code': 'US-MI'}], 'corresponding': '', 'current_organization_id': '', 'first_name': 'Wassim', 'last_name': 'Tarraf', 'orcid': [], 'raw_affiliation': ['Institute of Gerontology and Department of Healthcare Sciences, Wayne State University, Detroit, MI, USA.'], 'researcher_id': None}, {'affiliations': [{'city': 'San Diego', 'city_id': 5391811, 'country': 'United States', 'country_code': 'US',\n",
      "\n",
      "Radiology, Stanford University, Stanford, CA 94305, USA'], 'researcher_id': None}, {'affiliations': [{'city': 'La Jolla', 'city_id': 5363943, 'country': 'United States', 'country_code': 'US', 'id': 'grid.250671.7', 'name': 'Salk Institute for Biological Studies', 'raw_affiliation': 'Department of Genetics, The Salk Institute of Biological Sciences, La Jolla, CA 92037, USA', 'state': 'California', 'state_code': 'US-CA'}, {'city': 'San Diego', 'city_id': 5391811, 'country': 'United States', 'country_code': 'US', 'id': 'grid.266100.3', 'name': 'University of California, San Diego', 'raw_affiliation': 'Graduate School of Biological Sciences, University of California San Diego, La Jolla, CA 92037, USA', 'state': 'California', 'state_code': 'US-CA'}], 'corresponding': '', 'current_organization_id': '', 'first_name': 'Dmitry', 'last_name': 'Lyumkis', 'orcid': [], 'raw_affiliation': ['Department of Genetics, The Salk Institute of Biological Sciences, La Jolla, CA 92037, USA', 'Graduate School\n",
      "\n",
      "USA.\", 'state': 'Illinois', 'state_code': 'US-IL'}], 'corresponding': '', 'current_organization_id': '', 'first_name': 'Melissa', 'last_name': 'Lamar', 'orcid': [], 'raw_affiliation': ['Institute for Minority Health Research, University of Illinois at Chicago, Chicago, IL, USA.', \"Rush Alzheimer's Disease Center and the Department of Psychiatry and Behavioral Sciences, Rush University Medical Center, Chicago, IL, USA.\"], 'researcher_id': None}] \n",
      "Answer: The papers \"Malaria Vaccine Development: Challenges and Opportunities\" by authors from Stanford University, University of California, San Diego, and Salk Institute for Biological Studies, published in the Journal of Immunology Research, and \"Malaria Vaccine Development: Challenges and Opportunities\" by authors from Stanford University, Northeastern University, and University of California, San Diego, published in the Journal of Vaccines and Vaccination, both"
     ]
    }
   ],
   "source": [
    "for chunk in rag_chain.stream(\"What papers cover malaria?\"):\n",
    "    print(chunk, end=\"\", flush=True)"
   ]
  },
  {
   "cell_type": "code",
   "execution_count": null,
   "id": "da0f3356-0dfa-4fb5-835f-16bb8abe22ba",
   "metadata": {},
   "outputs": [],
   "source": [
    "# basic rag chain with limited results"
   ]
  }
 ],
 "metadata": {
  "kernelspec": {
   "display_name": "Python 3 (ipykernel)",
   "language": "python",
   "name": "python3"
  },
  "language_info": {
   "codemirror_mode": {
    "name": "ipython",
    "version": 3
   },
   "file_extension": ".py",
   "mimetype": "text/x-python",
   "name": "python",
   "nbconvert_exporter": "python",
   "pygments_lexer": "ipython3",
   "version": "3.11.9"
  }
 },
 "nbformat": 4,
 "nbformat_minor": 5
}
