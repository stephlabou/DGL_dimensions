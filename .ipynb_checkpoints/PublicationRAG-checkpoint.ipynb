{
 "cells": [
  {
   "cell_type": "markdown",
   "id": "cf32c3de",
   "metadata": {},
   "source": [
    "Following the tutorial https://medium.com/@thakermadhav/build-your-own-rag-with-mistral-7b-and-langchain-97d0c92fa146 to make a RAG to answer queries about research being done at UCSD, database info is pulled from Dimensions\n",
    "\n",
    "also referencing langchain quickstart https://python.langchain.com/v0.1/docs/use_cases/question_answering/quickstart/ "
   ]
  },
  {
   "cell_type": "markdown",
   "id": "9d06201b",
   "metadata": {},
   "source": [
    "Using HuggingFace, Mistral-7B model. https://huggingface.co/docs/transformers/installation installation instructions\n",
    "\n",
    "Pip installations:\n",
    "pip install --upgrade huggingface_hub <br/>\n",
    "install pytorch\n",
    "pip install transformers\n",
    "\n",
    "for langchain stuff:\n",
    "pip install --upgrade --quiet  langchain langchain-community langchainhub langchain-openai langchain-chroma bs4"
   ]
  },
  {
   "cell_type": "markdown",
   "id": "a6c4d077",
   "metadata": {},
   "source": [
    "Langchain is for prototyping, LangSmith is for production to increase reliability of models and have a UI so you can visualize your LLM"
   ]
  },
  {
   "cell_type": "code",
   "execution_count": 2,
   "id": "aaaa8079",
   "metadata": {},
   "outputs": [],
   "source": [
    "from transformers import AutoModelForCausalLM, AutoTokenizer"
   ]
  },
  {
   "cell_type": "code",
   "execution_count": 6,
   "id": "bfe0c617",
   "metadata": {},
   "outputs": [],
   "source": [
    "import os\n",
    "from dotenv import load_dotenv\n",
    "import getpass\n",
    "\n",
    "load_dotenv()\n",
    "\n",
    "hf_access_token = os.getenv('ACCESS_TOKEN') # get access token from .env file\n",
    "openai_api_key = os.getenv('OPENAI_API_KEY')\n",
    "lc_api_key = os.getenv('LANGCHAIN_API_KEY')"
   ]
  },
  {
   "cell_type": "code",
   "execution_count": 8,
   "id": "09981dd5",
   "metadata": {},
   "outputs": [],
   "source": [
    "# start logging traces to use LangSmith\n",
    "os.environ[\"LANGCHAIN_TRACING_V2\"] = \"true\""
   ]
  },
  {
   "cell_type": "code",
   "execution_count": 9,
   "id": "5ec76120",
   "metadata": {},
   "outputs": [],
   "source": [
    "import bs4\n",
    "from langchain import hub\n",
    "from langchain_community.document_loaders import WebBaseLoader\n",
    "from langchain_chroma import Chroma\n",
    "from langchain_core.output_parsers import StrOutputParser\n",
    "from langchain_core.runnables import RunnablePassthrough\n",
    "from langchain_openai import OpenAIEmbeddings\n",
    "from langchain_text_splitters import RecursiveCharacterTextSplitter"
   ]
  },
  {
   "cell_type": "code",
   "execution_count": 10,
   "id": "3da94932",
   "metadata": {},
   "outputs": [],
   "source": [
    "# use DocumentLoaders: objects to load in data fram a source and return a list of documents for our vector database\n",
    "# one Document has page_content and metadata\n",
    "# TODO: make a csv file with publications that we want to load in \n",
    "# https://python.langchain.com/v0.1/docs/modules/data_connection/document_loaders/csv/ "
   ]
  },
  {
   "cell_type": "code",
   "execution_count": null,
   "id": "11acfc34",
   "metadata": {},
   "outputs": [
    {
     "name": "stderr",
     "output_type": "stream",
     "text": [
      "C:\\Users\\lulennemann\\AppData\\Roaming\\Python\\Python39\\site-packages\\huggingface_hub\\file_download.py:1132: FutureWarning: `resume_download` is deprecated and will be removed in version 1.0.0. Downloads always resume when possible. If you want to force a new download, use `force_download=True`.\n",
      "  warnings.warn(\n"
     ]
    }
   ],
   "source": [
    "device = \"cuda\" # the device to load the model onto\n",
    "\n",
    "model = AutoModelForCausalLM.from_pretrained(\"mistralai/Mistral-7B-Instruct-v0.2\", token=hf_access_token)\n",
    "tokenizer = AutoTokenizer.from_pretrained(\"mistralai/Mistral-7B-Instruct-v0.2\", token=hf_access_token)\n",
    "\n",
    "messages = [\n",
    "    {\"role\": \"user\", \"content\": \"What is your favourite condiment?\"},\n",
    "    {\"role\": \"assistant\", \"content\": \"Well, I'm quite partial to a good squeeze of fresh lemon juice. It adds just the right amount of zesty flavour to whatever I'm cooking up in the kitchen!\"},\n",
    "    {\"role\": \"user\", \"content\": \"Do you have mayonnaise recipes?\"}\n",
    "]\n",
    "\n",
    "encodeds = tokenizer.apply_chat_template(messages, return_tensors=\"pt\")\n",
    "\n",
    "model_inputs = encodeds.to(device)\n",
    "model.to(device)\n",
    "\n",
    "generated_ids = model.generate(model_inputs, max_new_tokens=1000, do_sample=True)\n",
    "decoded = tokenizer.batch_decode(generated_ids)\n",
    "print(decoded[0])\n"
   ]
  },
  {
   "cell_type": "code",
   "execution_count": null,
   "id": "0638321a",
   "metadata": {},
   "outputs": [],
   "source": []
  }
 ],
 "metadata": {
  "kernelspec": {
   "display_name": "Python 3 (ipykernel)",
   "language": "python",
   "name": "python3"
  },
  "language_info": {
   "codemirror_mode": {
    "name": "ipython",
    "version": 3
   },
   "file_extension": ".py",
   "mimetype": "text/x-python",
   "name": "python",
   "nbconvert_exporter": "python",
   "pygments_lexer": "ipython3",
   "version": "3.9.16"
  }
 },
 "nbformat": 4,
 "nbformat_minor": 5
}
