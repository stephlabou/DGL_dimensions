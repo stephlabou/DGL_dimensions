{
 "cells": [
  {
   "cell_type": "markdown",
   "id": "9606d177-1a17-419a-8ccd-0d2f087bc4ce",
   "metadata": {},
   "source": [
    "# Starting out with Dimensions #"
   ]
  },
  {
   "cell_type": "markdown",
   "id": "2cd30f5e-4df1-42bd-914c-65fb5e202936",
   "metadata": {},
   "source": [
    "Dimcli is a Python client for accessing the Dimensions API, which helps authenticate into the API and handle query requests/responses."
   ]
  },
  {
   "cell_type": "code",
   "execution_count": 1,
   "id": "7edebf5a-f3da-4076-93f5-f2494606e8f6",
   "metadata": {},
   "outputs": [],
   "source": [
    "# necessary imports\n",
    "import dimcli\n",
    "import pandas as pd\n",
    "\n",
    "# visualization libraries\n",
    "import seaborn as sns\n",
    "import matplotlib as plt"
   ]
  },
  {
   "cell_type": "code",
   "execution_count": 24,
   "id": "514cf8df",
   "metadata": {},
   "outputs": [],
   "source": [
    "# visualization settings\n",
    "sns.set_style(\"white\")\n",
    "sns.set(rc={'figure.figsize':(12, 10)})"
   ]
  },
  {
   "cell_type": "code",
   "execution_count": 3,
   "id": "352f5d11-4508-4b43-b820-82e6a4e2d2d8",
   "metadata": {},
   "outputs": [
    {
     "name": "stderr",
     "output_type": "stream",
     "text": [
      "\u001b[2mSearching config file credentials for default 'live' instance..\u001b[0m\n"
     ]
    },
    {
     "name": "stdout",
     "output_type": "stream",
     "text": [
      "\u001b[2mDimcli - Dimensions API Client (v1.2)\u001b[0m\n",
      "\u001b[2mConnected to: <https://app.dimensions.ai/api/dsl> - DSL v2.9\u001b[0m\n",
      "\u001b[2mMethod: dsl.ini file\u001b[0m\n"
     ]
    }
   ],
   "source": [
    "# get access with config file. resource: https://digital-science.github.io/dimcli/getting-started.html# \n",
    "dimcli.login()"
   ]
  },
  {
   "cell_type": "code",
   "execution_count": 4,
   "id": "28805976-d654-4fb0-90bd-48e0577cb8e6",
   "metadata": {},
   "outputs": [],
   "source": [
    "dsl = dimcli.Dsl()"
   ]
  },
  {
   "cell_type": "markdown",
   "id": "cfc20b56",
   "metadata": {},
   "source": [
    "# An Overview of Using Dimcli to Access Dimensions Data"
   ]
  },
  {
   "cell_type": "markdown",
   "id": "868bdb2d",
   "metadata": {},
   "source": [
    "One way to query data is using the dimcli instance to make requests. "
   ]
  },
  {
   "cell_type": "code",
   "execution_count": null,
   "id": "978659c5",
   "metadata": {},
   "outputs": [],
   "source": [
    "dsl.query(\"search publications for \\\"malaria\\\" return publications limit 1\").data # use data attribute to get JSON of info"
   ]
  },
  {
   "cell_type": "markdown",
   "id": "60db4b65",
   "metadata": {},
   "source": [
    "Another way to query information is to use Dimcli magic commands, created specifically for the Jupyter environment, that run faster. This specific command returns a pandas dataframe."
   ]
  },
  {
   "cell_type": "code",
   "execution_count": null,
   "id": "3ff24345",
   "metadata": {},
   "outputs": [],
   "source": [
    "%%dsldf\n",
    "\n",
    "search publications \n",
    "    for \"malaria\"\n",
    "return publications [title + research_orgs + research_org_names + times_cited + funders]\n",
    "limit 5"
   ]
  },
  {
   "cell_type": "code",
   "execution_count": null,
   "id": "875ba318",
   "metadata": {},
   "outputs": [],
   "source": [
    "# all magic commands result stored in..\n",
    "dsl_last_results.head()"
   ]
  },
  {
   "cell_type": "markdown",
   "id": "9243ee73",
   "metadata": {},
   "source": [
    "# Publications"
   ]
  },
  {
   "cell_type": "markdown",
   "id": "827c105d",
   "metadata": {},
   "source": [
    "Let's start querying to do some exploratory data analysis on research done at UCSD. "
   ]
  },
  {
   "cell_type": "code",
   "execution_count": 5,
   "id": "094af8ee",
   "metadata": {},
   "outputs": [],
   "source": [
    "# set some variables here to make it easier to query\n",
    "GRIDID = \"grid.266100.3\" # Grid ID for University of California, San Diego\n",
    "FIELDS = \"title+type+year+journal+authors+research_orgs+research_org_names+publisher+times_cited+funders\""
   ]
  },
  {
   "cell_type": "code",
   "execution_count": 6,
   "id": "1d665a4d",
   "metadata": {},
   "outputs": [
    {
     "name": "stdout",
     "output_type": "stream",
     "text": [
      "Returned Publications: 645 (total = 645)\n",
      "\u001b[2mTime: 2.29s\u001b[0m\n",
      "WARNINGS [1]\n",
      "Field current_organization_id of the authors field is deprecated and will be removed in the next major release.\n"
     ]
    }
   ],
   "source": [
    "query = f\"\"\"search publications in title_abstract_only\n",
    "            for \"artificial intelligence\" \n",
    "            where research_orgs.id=\"{GRIDID}\" \n",
    "            return publications[{FIELDS}] sort by year limit 645\"\"\"\n",
    "result = dsl.query(query)"
   ]
  },
  {
   "cell_type": "code",
   "execution_count": 7,
   "id": "779f829d",
   "metadata": {},
   "outputs": [
    {
     "data": {
      "text/html": [
       "<div>\n",
       "<style scoped>\n",
       "    .dataframe tbody tr th:only-of-type {\n",
       "        vertical-align: middle;\n",
       "    }\n",
       "\n",
       "    .dataframe tbody tr th {\n",
       "        vertical-align: top;\n",
       "    }\n",
       "\n",
       "    .dataframe thead th {\n",
       "        text-align: right;\n",
       "    }\n",
       "</style>\n",
       "<table border=\"1\" class=\"dataframe\">\n",
       "  <thead>\n",
       "    <tr style=\"text-align: right;\">\n",
       "      <th></th>\n",
       "      <th>title</th>\n",
       "      <th>authors</th>\n",
       "      <th>research_org_names</th>\n",
       "      <th>research_orgs</th>\n",
       "      <th>times_cited</th>\n",
       "      <th>type</th>\n",
       "      <th>year</th>\n",
       "      <th>journal.id</th>\n",
       "      <th>journal.title</th>\n",
       "      <th>publisher</th>\n",
       "    </tr>\n",
       "  </thead>\n",
       "  <tbody>\n",
       "    <tr>\n",
       "      <th>0</th>\n",
       "      <td>Pediatric endoscopy: how can we improve patien...</td>\n",
       "      <td>[{'affiliations': [{'city': 'Boston', 'city_id...</td>\n",
       "      <td>[University of Toronto, Rady Children's Hospit...</td>\n",
       "      <td>[{'city_name': 'San Diego', 'country_code': 'U...</td>\n",
       "      <td>0</td>\n",
       "      <td>article</td>\n",
       "      <td>2024</td>\n",
       "      <td>jour.1037145</td>\n",
       "      <td>Expert Review of Gastroenterology &amp; Hepatology</td>\n",
       "      <td>NaN</td>\n",
       "    </tr>\n",
       "    <tr>\n",
       "      <th>1</th>\n",
       "      <td>P146: BeginNGS, an artificial intelligence-ena...</td>\n",
       "      <td>[{'affiliations': [{'city': None, 'city_id': N...</td>\n",
       "      <td>[Fabric Genomics, Illumina (United States), Ge...</td>\n",
       "      <td>[{'acronym': 'UCSD', 'city_name': 'San Diego',...</td>\n",
       "      <td>0</td>\n",
       "      <td>article</td>\n",
       "      <td>2024</td>\n",
       "      <td>jour.1452539</td>\n",
       "      <td>Genetics in Medicine Open</td>\n",
       "      <td>Elsevier</td>\n",
       "    </tr>\n",
       "    <tr>\n",
       "      <th>2</th>\n",
       "      <td>Impact of artificial intelligence arrhythmia m...</td>\n",
       "      <td>[{'affiliations': [{'city': 'San Diego', 'city...</td>\n",
       "      <td>[University of California, San Diego, VA San D...</td>\n",
       "      <td>[{'acronym': 'UCSD', 'city_name': 'San Diego',...</td>\n",
       "      <td>0</td>\n",
       "      <td>article</td>\n",
       "      <td>2024</td>\n",
       "      <td>jour.1094057</td>\n",
       "      <td>Journal of Cardiovascular Electrophysiology</td>\n",
       "      <td>Wiley</td>\n",
       "    </tr>\n",
       "    <tr>\n",
       "      <th>3</th>\n",
       "      <td>A scoping review of artificial intelligence in...</td>\n",
       "      <td>[{'affiliations': [{'city': 'Preston', 'city_i...</td>\n",
       "      <td>[Maastricht University, University of Californ...</td>\n",
       "      <td>[{'acronym': 'UM', 'city_name': 'Ann Arbor', '...</td>\n",
       "      <td>0</td>\n",
       "      <td>article</td>\n",
       "      <td>2024</td>\n",
       "      <td>jour.1090373</td>\n",
       "      <td>Medical Teacher</td>\n",
       "      <td>Taylor &amp; Francis</td>\n",
       "    </tr>\n",
       "    <tr>\n",
       "      <th>4</th>\n",
       "      <td>Transforming Big Data into AI‐ready data for n...</td>\n",
       "      <td>[{'affiliations': [{'city': 'West Point', 'cit...</td>\n",
       "      <td>[University of Alabama, Stevens Institute of T...</td>\n",
       "      <td>[{'acronym': 'UNC', 'city_name': 'Chapel Hill'...</td>\n",
       "      <td>0</td>\n",
       "      <td>article</td>\n",
       "      <td>2024</td>\n",
       "      <td>jour.1036439</td>\n",
       "      <td>Obesity</td>\n",
       "      <td>Wiley</td>\n",
       "    </tr>\n",
       "  </tbody>\n",
       "</table>\n",
       "</div>"
      ],
      "text/plain": [
       "                                               title  \\\n",
       "0  Pediatric endoscopy: how can we improve patien...   \n",
       "1  P146: BeginNGS, an artificial intelligence-ena...   \n",
       "2  Impact of artificial intelligence arrhythmia m...   \n",
       "3  A scoping review of artificial intelligence in...   \n",
       "4  Transforming Big Data into AI‐ready data for n...   \n",
       "\n",
       "                                             authors  \\\n",
       "0  [{'affiliations': [{'city': 'Boston', 'city_id...   \n",
       "1  [{'affiliations': [{'city': None, 'city_id': N...   \n",
       "2  [{'affiliations': [{'city': 'San Diego', 'city...   \n",
       "3  [{'affiliations': [{'city': 'Preston', 'city_i...   \n",
       "4  [{'affiliations': [{'city': 'West Point', 'cit...   \n",
       "\n",
       "                                  research_org_names  \\\n",
       "0  [University of Toronto, Rady Children's Hospit...   \n",
       "1  [Fabric Genomics, Illumina (United States), Ge...   \n",
       "2  [University of California, San Diego, VA San D...   \n",
       "3  [Maastricht University, University of Californ...   \n",
       "4  [University of Alabama, Stevens Institute of T...   \n",
       "\n",
       "                                       research_orgs  times_cited     type  \\\n",
       "0  [{'city_name': 'San Diego', 'country_code': 'U...            0  article   \n",
       "1  [{'acronym': 'UCSD', 'city_name': 'San Diego',...            0  article   \n",
       "2  [{'acronym': 'UCSD', 'city_name': 'San Diego',...            0  article   \n",
       "3  [{'acronym': 'UM', 'city_name': 'Ann Arbor', '...            0  article   \n",
       "4  [{'acronym': 'UNC', 'city_name': 'Chapel Hill'...            0  article   \n",
       "\n",
       "   year    journal.id                                   journal.title  \\\n",
       "0  2024  jour.1037145  Expert Review of Gastroenterology & Hepatology   \n",
       "1  2024  jour.1452539                       Genetics in Medicine Open   \n",
       "2  2024  jour.1094057     Journal of Cardiovascular Electrophysiology   \n",
       "3  2024  jour.1090373                                 Medical Teacher   \n",
       "4  2024  jour.1036439                                         Obesity   \n",
       "\n",
       "          publisher  \n",
       "0               NaN  \n",
       "1          Elsevier  \n",
       "2             Wiley  \n",
       "3  Taylor & Francis  \n",
       "4             Wiley  "
      ]
     },
     "execution_count": 7,
     "metadata": {},
     "output_type": "execute_result"
    }
   ],
   "source": [
    "# turn result from Dimcli query into pandas dataframe\n",
    "pubs = result.as_dataframe()\n",
    "pubs.head()"
   ]
  },
  {
   "cell_type": "markdown",
   "id": "ba9d4ed5",
   "metadata": {},
   "source": [
    "## Data Cleaning and Reformatting"
   ]
  },
  {
   "cell_type": "markdown",
   "id": "ac5c14a7",
   "metadata": {},
   "source": [
    "After querying from Dimensions, let's organize our data so it is easier to work with. "
   ]
  },
  {
   "cell_type": "code",
   "execution_count": null,
   "id": "2ceaa125",
   "metadata": {},
   "outputs": [],
   "source": [
    "# let's do some data processing and reformat the data\n",
    "# the funders information is given a list of dictionaries, each dictionary represents the info for a funder\n",
    "pubs['funder_name'] = pubs['funders'].apply(lambda x : [] if isinstance(x, float)\n",
    "                                            else [dict['name'] for dict in x])"
   ]
  },
  {
   "cell_type": "markdown",
   "id": "018a0043",
   "metadata": {},
   "source": [
    "## Publishers"
   ]
  },
  {
   "cell_type": "code",
   "execution_count": null,
   "id": "9dfc280f",
   "metadata": {},
   "outputs": [],
   "source": [
    "# create dataframe to create an order to sort visualization of publishers\n",
    "count_publisher = pubs['publisher'].value_counts().reset_index()\n",
    "# count_publisher = count_publisher[count_publisher['publisher'] > 4] # don't include publishers with <4 UCSD publications\n",
    "count_publisher.head()"
   ]
  },
  {
   "cell_type": "markdown",
   "id": "752b9426",
   "metadata": {},
   "source": [
    "After pulling publications from University of California, San Diego which are about artificial intelligence, let's visualize which journals people are publishing in and which publishers. "
   ]
  },
  {
   "cell_type": "code",
   "execution_count": null,
   "id": "e2aedafb",
   "metadata": {},
   "outputs": [],
   "source": [
    "plt.pie(count_publisher['publisher'], labels=count_publisher['index'])\n",
    "plt.show()"
   ]
  },
  {
   "cell_type": "code",
   "execution_count": null,
   "id": "bc843a8b",
   "metadata": {},
   "outputs": [],
   "source": [
    "sns.barplot(count_publisher, x=\"publisher\", y=\"index\", order=count_publisher['index'], estimator=)\n",
    "plt.xlabel('Publication Count')\n",
    "plt.ylabel('Publisher')\n",
    "plt.show()"
   ]
  },
  {
   "cell_type": "markdown",
   "id": "dcf81183",
   "metadata": {},
   "source": [
    "Which publishers does UCSD have contracts with? ......."
   ]
  },
  {
   "cell_type": "code",
   "execution_count": null,
   "id": "81c8b913",
   "metadata": {},
   "outputs": [],
   "source": []
  },
  {
   "cell_type": "markdown",
   "id": "db8d2d30",
   "metadata": {},
   "source": [
    "# Datasets"
   ]
  },
  {
   "cell_type": "markdown",
   "id": "1ceaba87",
   "metadata": {},
   "source": [
    "At UCSD, where are people publishing datasets? "
   ]
  },
  {
   "cell_type": "code",
   "execution_count": null,
   "id": "946258e0",
   "metadata": {},
   "outputs": [],
   "source": [
    "%dsldf search datasets for \"machine learning\" return datasets"
   ]
  },
  {
   "cell_type": "code",
   "execution_count": null,
   "id": "40a8964e-24a1-4bcd-9a35-e58b6e346a8b",
   "metadata": {},
   "outputs": [],
   "source": [
    "# normal query\n",
    "res = dsl.query(\"search publications for \\\"artificial-intelligence\\\" return researchers\") # return DslDataset object\n",
    "[x['first_name'] + \" \" + x['last_name'] for x in res['researchers']]"
   ]
  }
 ],
 "metadata": {
  "kernelspec": {
   "display_name": "Python 3 (ipykernel)",
   "language": "python",
   "name": "python3"
  },
  "language_info": {
   "codemirror_mode": {
    "name": "ipython",
    "version": 3
   },
   "file_extension": ".py",
   "mimetype": "text/x-python",
   "name": "python",
   "nbconvert_exporter": "python",
   "pygments_lexer": "ipython3",
   "version": "3.9.16"
  }
 },
 "nbformat": 4,
 "nbformat_minor": 5
}
